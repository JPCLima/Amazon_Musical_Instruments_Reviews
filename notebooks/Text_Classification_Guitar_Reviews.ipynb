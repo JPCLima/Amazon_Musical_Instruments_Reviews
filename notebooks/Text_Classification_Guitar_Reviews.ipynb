{
 "cells": [
  {
   "attachments": {},
   "cell_type": "markdown",
   "metadata": {},
   "source": [
    "# Amazon Musical Instruments Reviews \n",
    "\n",
    "\n",
    "In this project, I will perform EDA on the Amazon Musical Instruments Reviews dataset to gain insights into the data, identify potential issues, and prepare it for classification using NLP techniques. \n",
    "\n",
    "The dataset contains reviews for musical instruments sold on Amazon, along with their corresponding ratings. The goal is to classify the reviews as positive or negative based on their text content. Before building a classification model, I will need to perform EDA to understand the distribution of the data, identify missing values, outliers, and other anomalies, and preprocess the data to make it suitable for NLP tasks.\n",
    "\n",
    "On this project I will be use python and some popular data science libaries such as pandas, numpy, matplotlib and seaborn to perform the EDA. I will compute basic statistics, generate visualizations, and analyze the distribution of the data.  \n",
    "\n",
    "## Content\n",
    "This file has reviewer ID , User ID, Reviewer Name, Reviewer text, helpful, Summary(obtained from Reviewer text),Overall Rating on a scale 5, Review time\n",
    "Description of columns in the file:\n",
    "\n",
    "* **reviewerID** - ID of the reviewer, e.g. A2SUAM1J3GNN3B\n",
    "* **asin** - ID of the product, e.g. 0000013714\n",
    "* **reviewerName** - name of the reviewer\n",
    "* **helpful** - helpfulness rating of the review, e.g. 2/3\n",
    "* **reviewText** - text of the review\n",
    "* **overall** - rating of the product\n",
    "* **summary** - summary of the review\n",
    "* **unixReviewTime** - time of the review (unix time)\n",
    "* **reviewTime** - time of the review (raw)\n"
   ]
  },
  {
   "cell_type": "code",
   "execution_count": 1,
   "metadata": {},
   "outputs": [
    {
     "name": "stderr",
     "output_type": "stream",
     "text": [
      "[nltk_data] Downloading package stopwords to\n",
      "[nltk_data]     C:\\Users\\Joao\\AppData\\Roaming\\nltk_data...\n",
      "[nltk_data]   Package stopwords is already up-to-date!\n",
      "[nltk_data] Downloading package wordnet to\n",
      "[nltk_data]     C:\\Users\\Joao\\AppData\\Roaming\\nltk_data...\n",
      "[nltk_data]   Package wordnet is already up-to-date!\n"
     ]
    },
    {
     "data": {
      "text/plain": [
       "True"
      ]
     },
     "execution_count": 1,
     "metadata": {},
     "output_type": "execute_result"
    }
   ],
   "source": [
    "import pandas as pd\n",
    "import numpy as np\n",
    "import os\n",
    "import re\n",
    "import matplotlib.pyplot as plt\n",
    "import seaborn as sns\n",
    "\n",
    "# Feature Engineering\n",
    "import nltk\n",
    "import string\n",
    "from nltk.corpus import stopwords, wordnet\n",
    "from nltk.tokenize import word_tokenize\n",
    "from collections import Counter\n",
    "\n",
    "# Model\n",
    "from nltk.stem import WordNetLemmatizer\n",
    "from imblearn.over_sampling import SMOTE\n",
    "from sklearn.model_selection import train_test_split\n",
    "from sklearn.feature_extraction.text import TfidfVectorizer\n",
    "from sklearn.model_selection import GridSearchCV, cross_val_score\n",
    "import pickle\n",
    "\n",
    "from sklearn.pipeline import Pipeline\n",
    "from sklearn.feature_extraction.text import TfidfVectorizer\n",
    "from sklearn.linear_model import LogisticRegression\n",
    "from sklearn.naive_bayes import MultinomialNB\n",
    "from sklearn.svm import SVC\n",
    "from sklearn.ensemble import RandomForestClassifier\n",
    "\n",
    "# Evaluation\n",
    "from sklearn.metrics import confusion_matrix, classification_report, accuracy_score\n",
    "\n",
    "sns.set_palette(\"muted\")\n",
    "nltk.download('stopwords')\n",
    "nltk.download('wordnet')"
   ]
  },
  {
   "attachments": {},
   "cell_type": "markdown",
   "metadata": {},
   "source": [
    "## Data Cleaning"
   ]
  },
  {
   "attachments": {},
   "cell_type": "markdown",
   "metadata": {},
   "source": [
    "### Importing Data"
   ]
  },
  {
   "cell_type": "code",
   "execution_count": 2,
   "metadata": {},
   "outputs": [
    {
     "data": {
      "text/html": [
       "<div>\n",
       "<style scoped>\n",
       "    .dataframe tbody tr th:only-of-type {\n",
       "        vertical-align: middle;\n",
       "    }\n",
       "\n",
       "    .dataframe tbody tr th {\n",
       "        vertical-align: top;\n",
       "    }\n",
       "\n",
       "    .dataframe thead th {\n",
       "        text-align: right;\n",
       "    }\n",
       "</style>\n",
       "<table border=\"1\" class=\"dataframe\">\n",
       "  <thead>\n",
       "    <tr style=\"text-align: right;\">\n",
       "      <th></th>\n",
       "      <th>reviewerID</th>\n",
       "      <th>asin</th>\n",
       "      <th>reviewerName</th>\n",
       "      <th>helpful</th>\n",
       "      <th>reviewText</th>\n",
       "      <th>overall</th>\n",
       "      <th>summary</th>\n",
       "      <th>unixReviewTime</th>\n",
       "      <th>reviewTime</th>\n",
       "    </tr>\n",
       "  </thead>\n",
       "  <tbody>\n",
       "    <tr>\n",
       "      <th>0</th>\n",
       "      <td>A2IBPI20UZIR0U</td>\n",
       "      <td>1384719342</td>\n",
       "      <td>cassandra tu \"Yeah, well, that's just like, u...</td>\n",
       "      <td>[0, 0]</td>\n",
       "      <td>Not much to write about here, but it does exac...</td>\n",
       "      <td>5.0</td>\n",
       "      <td>good</td>\n",
       "      <td>1393545600</td>\n",
       "      <td>02 28, 2014</td>\n",
       "    </tr>\n",
       "    <tr>\n",
       "      <th>1</th>\n",
       "      <td>A14VAT5EAX3D9S</td>\n",
       "      <td>1384719342</td>\n",
       "      <td>Jake</td>\n",
       "      <td>[13, 14]</td>\n",
       "      <td>The product does exactly as it should and is q...</td>\n",
       "      <td>5.0</td>\n",
       "      <td>Jake</td>\n",
       "      <td>1363392000</td>\n",
       "      <td>03 16, 2013</td>\n",
       "    </tr>\n",
       "    <tr>\n",
       "      <th>2</th>\n",
       "      <td>A195EZSQDW3E21</td>\n",
       "      <td>1384719342</td>\n",
       "      <td>Rick Bennette \"Rick Bennette\"</td>\n",
       "      <td>[1, 1]</td>\n",
       "      <td>The primary job of this device is to block the...</td>\n",
       "      <td>5.0</td>\n",
       "      <td>It Does The Job Well</td>\n",
       "      <td>1377648000</td>\n",
       "      <td>08 28, 2013</td>\n",
       "    </tr>\n",
       "    <tr>\n",
       "      <th>3</th>\n",
       "      <td>A2C00NNG1ZQQG2</td>\n",
       "      <td>1384719342</td>\n",
       "      <td>RustyBill \"Sunday Rocker\"</td>\n",
       "      <td>[0, 0]</td>\n",
       "      <td>Nice windscreen protects my MXL mic and preven...</td>\n",
       "      <td>5.0</td>\n",
       "      <td>GOOD WINDSCREEN FOR THE MONEY</td>\n",
       "      <td>1392336000</td>\n",
       "      <td>02 14, 2014</td>\n",
       "    </tr>\n",
       "    <tr>\n",
       "      <th>4</th>\n",
       "      <td>A94QU4C90B1AX</td>\n",
       "      <td>1384719342</td>\n",
       "      <td>SEAN MASLANKA</td>\n",
       "      <td>[0, 0]</td>\n",
       "      <td>This pop filter is great. It looks and perform...</td>\n",
       "      <td>5.0</td>\n",
       "      <td>No more pops when I record my vocals.</td>\n",
       "      <td>1392940800</td>\n",
       "      <td>02 21, 2014</td>\n",
       "    </tr>\n",
       "  </tbody>\n",
       "</table>\n",
       "</div>"
      ],
      "text/plain": [
       "       reviewerID        asin   \n",
       "0  A2IBPI20UZIR0U  1384719342  \\\n",
       "1  A14VAT5EAX3D9S  1384719342   \n",
       "2  A195EZSQDW3E21  1384719342   \n",
       "3  A2C00NNG1ZQQG2  1384719342   \n",
       "4   A94QU4C90B1AX  1384719342   \n",
       "\n",
       "                                       reviewerName   helpful   \n",
       "0  cassandra tu \"Yeah, well, that's just like, u...    [0, 0]  \\\n",
       "1                                              Jake  [13, 14]   \n",
       "2                     Rick Bennette \"Rick Bennette\"    [1, 1]   \n",
       "3                         RustyBill \"Sunday Rocker\"    [0, 0]   \n",
       "4                                     SEAN MASLANKA    [0, 0]   \n",
       "\n",
       "                                          reviewText  overall   \n",
       "0  Not much to write about here, but it does exac...      5.0  \\\n",
       "1  The product does exactly as it should and is q...      5.0   \n",
       "2  The primary job of this device is to block the...      5.0   \n",
       "3  Nice windscreen protects my MXL mic and preven...      5.0   \n",
       "4  This pop filter is great. It looks and perform...      5.0   \n",
       "\n",
       "                                 summary  unixReviewTime   reviewTime  \n",
       "0                                   good      1393545600  02 28, 2014  \n",
       "1                                   Jake      1363392000  03 16, 2013  \n",
       "2                   It Does The Job Well      1377648000  08 28, 2013  \n",
       "3          GOOD WINDSCREEN FOR THE MONEY      1392336000  02 14, 2014  \n",
       "4  No more pops when I record my vocals.      1392940800  02 21, 2014  "
      ]
     },
     "execution_count": 2,
     "metadata": {},
     "output_type": "execute_result"
    }
   ],
   "source": [
    "raw_data = os.path.join('..','data', 'raw_data.csv')\n",
    "df_raw = pd.read_csv(raw_data)\n",
    "df_raw.head()"
   ]
  },
  {
   "attachments": {},
   "cell_type": "markdown",
   "metadata": {},
   "source": [
    "### Datatypes\n",
    "\n",
    "On this step Im going to convrt the datatypes of the specific column.\n",
    "\n",
    "* **reviewerID**: unique id, will be removed \n",
    "* **asin**: unique id, will be removed\n",
    "* **reviewerName**: string\n",
    "* **helpful**: float\n",
    "* **reviewText**: string\n",
    "* **overall**: int\n",
    "* **summary**: int\n",
    "* **unixReviewTime**: unique id, will be removed\n",
    "* **reviewTime**: datetime\n",
    "\n"
   ]
  },
  {
   "cell_type": "code",
   "execution_count": 3,
   "metadata": {},
   "outputs": [
    {
     "name": "stdout",
     "output_type": "stream",
     "text": [
      "<class 'pandas.core.frame.DataFrame'>\n",
      "RangeIndex: 10261 entries, 0 to 10260\n",
      "Data columns (total 6 columns):\n",
      " #   Column        Non-Null Count  Dtype  \n",
      "---  ------        --------------  -----  \n",
      " 0   reviewerName  10234 non-null  object \n",
      " 1   helpful       10261 non-null  object \n",
      " 2   reviewText    10254 non-null  object \n",
      " 3   overall       10261 non-null  float64\n",
      " 4   summary       10261 non-null  object \n",
      " 5   reviewTime    10261 non-null  object \n",
      "dtypes: float64(1), object(5)\n",
      "memory usage: 481.1+ KB\n"
     ]
    }
   ],
   "source": [
    "# Selecting a representative sample of the data\n",
    "df_raw = df_raw[['reviewerName', 'helpful', 'reviewText', 'overall', 'summary', 'reviewTime']]\n",
    "\n",
    "# Check current df\n",
    "df_raw.info()"
   ]
  },
  {
   "cell_type": "code",
   "execution_count": 4,
   "metadata": {},
   "outputs": [
    {
     "name": "stdout",
     "output_type": "stream",
     "text": [
      "<class 'pandas.core.frame.DataFrame'>\n",
      "RangeIndex: 10261 entries, 0 to 10260\n",
      "Data columns (total 6 columns):\n",
      " #   Column        Non-Null Count  Dtype         \n",
      "---  ------        --------------  -----         \n",
      " 0   reviewerName  10234 non-null  string        \n",
      " 1   helpful       10261 non-null  float64       \n",
      " 2   reviewText    10254 non-null  string        \n",
      " 3   overall       10261 non-null  int32         \n",
      " 4   summary       10261 non-null  string        \n",
      " 5   reviewTime    10261 non-null  datetime64[ns]\n",
      "dtypes: datetime64[ns](1), float64(1), int32(1), string(3)\n",
      "memory usage: 441.0 KB\n"
     ]
    }
   ],
   "source": [
    "df = df_raw.copy() \n",
    "import json\n",
    "\n",
    "def convert_col_type(cols, col_type):\n",
    "    for col in cols:\n",
    "        df[col] = df[col].astype(col_type)\n",
    "\n",
    "def convert_to_datetime(col, format_dt='%m %d, %Y'):\n",
    "    df[col] = pd.to_datetime(df[col], format=format_dt)\n",
    "\n",
    "\n",
    "def norm_helpful(df, col):\n",
    "    df[col] = df[col].apply(lambda x: json.loads(x))\n",
    "    df[col] = df[col].apply(lambda x: round(x[0] / x[1], 1) if x[1]!= 0 else 0)\n",
    "\n",
    "\n",
    "# Convert columns to string, integers and datetime\n",
    "cols_int = ['overall']\n",
    "cols_str = ['reviewerName', 'reviewText', 'summary', 'reviewTime']\n",
    "col_dt = 'reviewTime'\n",
    "\n",
    "# Apply functions\n",
    "convert_col_type(cols_int, 'int')\n",
    "convert_col_type(cols_str, 'string')\n",
    "convert_to_datetime(col_dt)\n",
    "\n",
    "# Convert the 'helpful' column to numeric type\n",
    "norm_helpful(df, 'helpful')\n",
    "df.info()"
   ]
  },
  {
   "attachments": {},
   "cell_type": "markdown",
   "metadata": {},
   "source": [
    "### Concatenating review and summary "
   ]
  },
  {
   "cell_type": "code",
   "execution_count": 5,
   "metadata": {},
   "outputs": [],
   "source": [
    "df['reviews'] = df['reviewText'] + df['summary']\n",
    "df_processed = df.drop(['reviewText', 'summary'], axis=1)"
   ]
  },
  {
   "attachments": {},
   "cell_type": "markdown",
   "metadata": {},
   "source": [
    "### Checking null values & Duplicates\n",
    "There are null values present in the `reviewerName` and `reviewText` columns. To handle these null values, I will remove these records from the dataset."
   ]
  },
  {
   "cell_type": "code",
   "execution_count": 6,
   "metadata": {},
   "outputs": [
    {
     "data": {
      "text/html": [
       "<div>\n",
       "<style scoped>\n",
       "    .dataframe tbody tr th:only-of-type {\n",
       "        vertical-align: middle;\n",
       "    }\n",
       "\n",
       "    .dataframe tbody tr th {\n",
       "        vertical-align: top;\n",
       "    }\n",
       "\n",
       "    .dataframe thead th {\n",
       "        text-align: right;\n",
       "    }\n",
       "</style>\n",
       "<table border=\"1\" class=\"dataframe\">\n",
       "  <thead>\n",
       "    <tr style=\"text-align: right;\">\n",
       "      <th></th>\n",
       "      <th>null_count_before</th>\n",
       "      <th>null_count_after</th>\n",
       "    </tr>\n",
       "  </thead>\n",
       "  <tbody>\n",
       "    <tr>\n",
       "      <th>reviewerName</th>\n",
       "      <td>27</td>\n",
       "      <td>0</td>\n",
       "    </tr>\n",
       "    <tr>\n",
       "      <th>reviewText</th>\n",
       "      <td>7</td>\n",
       "      <td>0</td>\n",
       "    </tr>\n",
       "    <tr>\n",
       "      <th>reviews</th>\n",
       "      <td>7</td>\n",
       "      <td>0</td>\n",
       "    </tr>\n",
       "    <tr>\n",
       "      <th>helpful</th>\n",
       "      <td>0</td>\n",
       "      <td>0</td>\n",
       "    </tr>\n",
       "    <tr>\n",
       "      <th>overall</th>\n",
       "      <td>0</td>\n",
       "      <td>0</td>\n",
       "    </tr>\n",
       "    <tr>\n",
       "      <th>summary</th>\n",
       "      <td>0</td>\n",
       "      <td>0</td>\n",
       "    </tr>\n",
       "    <tr>\n",
       "      <th>reviewTime</th>\n",
       "      <td>0</td>\n",
       "      <td>0</td>\n",
       "    </tr>\n",
       "  </tbody>\n",
       "</table>\n",
       "</div>"
      ],
      "text/plain": [
       "              null_count_before  null_count_after\n",
       "reviewerName                 27                 0\n",
       "reviewText                    7                 0\n",
       "reviews                       7                 0\n",
       "helpful                       0                 0\n",
       "overall                       0                 0\n",
       "summary                       0                 0\n",
       "reviewTime                    0                 0"
      ]
     },
     "execution_count": 6,
     "metadata": {},
     "output_type": "execute_result"
    }
   ],
   "source": [
    "# Check null values\n",
    "null_counts_before = df.isna().sum()\n",
    "df_null_before = pd.DataFrame(null_counts_before, columns=['null_count_before']).sort_values(by='null_count_before', ascending=False)\n",
    "\n",
    "# Replace null values in each column with an empty string\n",
    "for col in df_null_before.index:\n",
    "    df[col].fillna(value='', inplace=True)\n",
    "\n",
    "null_counts_after = df.isna().sum()\n",
    "df_null_after = pd.DataFrame(null_counts_after, columns=['null_count_after']).sort_values(by='null_count_after', ascending=False)\n",
    "\n",
    "df_null_counts = pd.concat([df_null_before, df_null_after], axis=1)\n",
    "\n",
    "df_null_counts"
   ]
  },
  {
   "attachments": {},
   "cell_type": "markdown",
   "metadata": {},
   "source": [
    "## Descriptive Statistics"
   ]
  },
  {
   "attachments": {},
   "cell_type": "markdown",
   "metadata": {},
   "source": [
    "### Describe the data\n",
    "\n",
    "Based on the .describe() its I can conclude that:\n",
    "1. `helpful`: The mean helpfulness rating of overview is 0.264, which means that most reviews do not recive hight rating or doesnt have rating\n",
    "2. `overall`: Based on the overall most of the reviews are classified as possitive in a scale from 1 to 5\n",
    "3. `reviewTime`: The reviews ere collected between 2004 and 2014, and most of the review dates are from 2012 or 2013\n",
    "4. `count`: There are 10261 reviews in the dataset\n",
    "5. `min` and `max`: The minimum overall is 1 and the maximum overall is 5\n",
    "6. `std`: The standard deviation for the overall rating is 0.89, which suggests that the ratings are relatively tightly clustered around the mean."
   ]
  },
  {
   "cell_type": "code",
   "execution_count": 7,
   "metadata": {},
   "outputs": [
    {
     "data": {
      "text/html": [
       "<div>\n",
       "<style scoped>\n",
       "    .dataframe tbody tr th:only-of-type {\n",
       "        vertical-align: middle;\n",
       "    }\n",
       "\n",
       "    .dataframe tbody tr th {\n",
       "        vertical-align: top;\n",
       "    }\n",
       "\n",
       "    .dataframe thead th {\n",
       "        text-align: right;\n",
       "    }\n",
       "</style>\n",
       "<table border=\"1\" class=\"dataframe\">\n",
       "  <thead>\n",
       "    <tr style=\"text-align: right;\">\n",
       "      <th></th>\n",
       "      <th>helpful</th>\n",
       "      <th>overall</th>\n",
       "      <th>reviewTime</th>\n",
       "    </tr>\n",
       "  </thead>\n",
       "  <tbody>\n",
       "    <tr>\n",
       "      <th>count</th>\n",
       "      <td>10261.000000</td>\n",
       "      <td>10261.000000</td>\n",
       "      <td>10261</td>\n",
       "    </tr>\n",
       "    <tr>\n",
       "      <th>mean</th>\n",
       "      <td>0.264594</td>\n",
       "      <td>4.488744</td>\n",
       "      <td>2013-02-11 18:05:55.754799616</td>\n",
       "    </tr>\n",
       "    <tr>\n",
       "      <th>min</th>\n",
       "      <td>0.000000</td>\n",
       "      <td>1.000000</td>\n",
       "      <td>2004-09-18 00:00:00</td>\n",
       "    </tr>\n",
       "    <tr>\n",
       "      <th>25%</th>\n",
       "      <td>0.000000</td>\n",
       "      <td>4.000000</td>\n",
       "      <td>2012-07-28 00:00:00</td>\n",
       "    </tr>\n",
       "    <tr>\n",
       "      <th>50%</th>\n",
       "      <td>0.000000</td>\n",
       "      <td>5.000000</td>\n",
       "      <td>2013-05-14 00:00:00</td>\n",
       "    </tr>\n",
       "    <tr>\n",
       "      <th>75%</th>\n",
       "      <td>0.700000</td>\n",
       "      <td>5.000000</td>\n",
       "      <td>2014-01-06 00:00:00</td>\n",
       "    </tr>\n",
       "    <tr>\n",
       "      <th>max</th>\n",
       "      <td>1.000000</td>\n",
       "      <td>5.000000</td>\n",
       "      <td>2014-07-22 00:00:00</td>\n",
       "    </tr>\n",
       "    <tr>\n",
       "      <th>std</th>\n",
       "      <td>0.421141</td>\n",
       "      <td>0.894642</td>\n",
       "      <td>NaN</td>\n",
       "    </tr>\n",
       "  </tbody>\n",
       "</table>\n",
       "</div>"
      ],
      "text/plain": [
       "            helpful       overall                     reviewTime\n",
       "count  10261.000000  10261.000000                          10261\n",
       "mean       0.264594      4.488744  2013-02-11 18:05:55.754799616\n",
       "min        0.000000      1.000000            2004-09-18 00:00:00\n",
       "25%        0.000000      4.000000            2012-07-28 00:00:00\n",
       "50%        0.000000      5.000000            2013-05-14 00:00:00\n",
       "75%        0.700000      5.000000            2014-01-06 00:00:00\n",
       "max        1.000000      5.000000            2014-07-22 00:00:00\n",
       "std        0.421141      0.894642                            NaN"
      ]
     },
     "execution_count": 7,
     "metadata": {},
     "output_type": "execute_result"
    }
   ],
   "source": [
    "df = df_processed.copy() \n",
    "df.describe()"
   ]
  },
  {
   "attachments": {},
   "cell_type": "markdown",
   "metadata": {},
   "source": [
    "### Vizualization of the numerical features\n",
    "\n",
    "Based on the barplot, it appears that there is an imbalance in the distribution of overall ratings in the dataset, with a higher proportion of positive ratings compared to negative ratings. To address this imbalance, one technique that will be used is to split the ratings into two groups: \n",
    "* \"negative\" for ratings 1-3 \n",
    "* \"positive\" for ratings 4-5. \n",
    "\n",
    "This will result in two more balanced classes that can be used for subsequent analysis or modeling."
   ]
  },
  {
   "cell_type": "code",
   "execution_count": 8,
   "metadata": {},
   "outputs": [
    {
     "data": {
      "text/html": [
       "<div>\n",
       "<style scoped>\n",
       "    .dataframe tbody tr th:only-of-type {\n",
       "        vertical-align: middle;\n",
       "    }\n",
       "\n",
       "    .dataframe tbody tr th {\n",
       "        vertical-align: top;\n",
       "    }\n",
       "\n",
       "    .dataframe thead th {\n",
       "        text-align: right;\n",
       "    }\n",
       "</style>\n",
       "<table border=\"1\" class=\"dataframe\">\n",
       "  <thead>\n",
       "    <tr style=\"text-align: right;\">\n",
       "      <th></th>\n",
       "      <th>count</th>\n",
       "    </tr>\n",
       "    <tr>\n",
       "      <th>overall</th>\n",
       "      <th></th>\n",
       "    </tr>\n",
       "  </thead>\n",
       "  <tbody>\n",
       "    <tr>\n",
       "      <th>5</th>\n",
       "      <td>6938</td>\n",
       "    </tr>\n",
       "    <tr>\n",
       "      <th>4</th>\n",
       "      <td>2084</td>\n",
       "    </tr>\n",
       "    <tr>\n",
       "      <th>3</th>\n",
       "      <td>772</td>\n",
       "    </tr>\n",
       "    <tr>\n",
       "      <th>2</th>\n",
       "      <td>250</td>\n",
       "    </tr>\n",
       "    <tr>\n",
       "      <th>1</th>\n",
       "      <td>217</td>\n",
       "    </tr>\n",
       "  </tbody>\n",
       "</table>\n",
       "</div>"
      ],
      "text/plain": [
       "         count\n",
       "overall       \n",
       "5         6938\n",
       "4         2084\n",
       "3          772\n",
       "2          250\n",
       "1          217"
      ]
     },
     "execution_count": 8,
     "metadata": {},
     "output_type": "execute_result"
    }
   ],
   "source": [
    "val_counts = df.overall.value_counts()\n",
    "df_val_counts = pd.DataFrame(val_counts)\n",
    "df_val_counts"
   ]
  },
  {
   "attachments": {},
   "cell_type": "markdown",
   "metadata": {},
   "source": [
    "Apply the changes on the data, and visualize distribution"
   ]
  },
  {
   "cell_type": "code",
   "execution_count": 9,
   "metadata": {},
   "outputs": [
    {
     "data": {
      "text/html": [
       "<div>\n",
       "<style scoped>\n",
       "    .dataframe tbody tr th:only-of-type {\n",
       "        vertical-align: middle;\n",
       "    }\n",
       "\n",
       "    .dataframe tbody tr th {\n",
       "        vertical-align: top;\n",
       "    }\n",
       "\n",
       "    .dataframe thead th {\n",
       "        text-align: right;\n",
       "    }\n",
       "</style>\n",
       "<table border=\"1\" class=\"dataframe\">\n",
       "  <thead>\n",
       "    <tr style=\"text-align: right;\">\n",
       "      <th></th>\n",
       "      <th>reviewerName</th>\n",
       "      <th>helpful</th>\n",
       "      <th>overall</th>\n",
       "      <th>reviewTime</th>\n",
       "      <th>reviews</th>\n",
       "    </tr>\n",
       "  </thead>\n",
       "  <tbody>\n",
       "    <tr>\n",
       "      <th>0</th>\n",
       "      <td>cassandra tu \"Yeah, well, that's just like, u...</td>\n",
       "      <td>0.0</td>\n",
       "      <td>1</td>\n",
       "      <td>2014-02-28</td>\n",
       "      <td>Not much to write about here, but it does exac...</td>\n",
       "    </tr>\n",
       "    <tr>\n",
       "      <th>1</th>\n",
       "      <td>Jake</td>\n",
       "      <td>0.9</td>\n",
       "      <td>1</td>\n",
       "      <td>2013-03-16</td>\n",
       "      <td>The product does exactly as it should and is q...</td>\n",
       "    </tr>\n",
       "    <tr>\n",
       "      <th>2</th>\n",
       "      <td>Rick Bennette \"Rick Bennette\"</td>\n",
       "      <td>1.0</td>\n",
       "      <td>1</td>\n",
       "      <td>2013-08-28</td>\n",
       "      <td>The primary job of this device is to block the...</td>\n",
       "    </tr>\n",
       "    <tr>\n",
       "      <th>3</th>\n",
       "      <td>RustyBill \"Sunday Rocker\"</td>\n",
       "      <td>0.0</td>\n",
       "      <td>1</td>\n",
       "      <td>2014-02-14</td>\n",
       "      <td>Nice windscreen protects my MXL mic and preven...</td>\n",
       "    </tr>\n",
       "    <tr>\n",
       "      <th>4</th>\n",
       "      <td>SEAN MASLANKA</td>\n",
       "      <td>0.0</td>\n",
       "      <td>1</td>\n",
       "      <td>2014-02-21</td>\n",
       "      <td>This pop filter is great. It looks and perform...</td>\n",
       "    </tr>\n",
       "  </tbody>\n",
       "</table>\n",
       "</div>"
      ],
      "text/plain": [
       "                                       reviewerName  helpful  overall   \n",
       "0  cassandra tu \"Yeah, well, that's just like, u...      0.0        1  \\\n",
       "1                                              Jake      0.9        1   \n",
       "2                     Rick Bennette \"Rick Bennette\"      1.0        1   \n",
       "3                         RustyBill \"Sunday Rocker\"      0.0        1   \n",
       "4                                     SEAN MASLANKA      0.0        1   \n",
       "\n",
       "  reviewTime                                            reviews  \n",
       "0 2014-02-28  Not much to write about here, but it does exac...  \n",
       "1 2013-03-16  The product does exactly as it should and is q...  \n",
       "2 2013-08-28  The primary job of this device is to block the...  \n",
       "3 2014-02-14  Nice windscreen protects my MXL mic and preven...  \n",
       "4 2014-02-21  This pop filter is great. It looks and perform...  "
      ]
     },
     "execution_count": 9,
     "metadata": {},
     "output_type": "execute_result"
    }
   ],
   "source": [
    "def map_to_sentiment(rating):\n",
    "    if int(rating) in {1, 2, 3}:\n",
    "        return 0  # negative sentiment\n",
    "    elif int(rating) in {4, 5}:\n",
    "        return 1  # positive sentiment\n",
    "    else:\n",
    "        raise ValueError(f'Invalid rating: {rating}. Must be an integer between 1 and 5.')\n",
    "    \n",
    "df.overall = df.overall.apply(map_to_sentiment) \n",
    "df.head()"
   ]
  },
  {
   "cell_type": "code",
   "execution_count": 10,
   "metadata": {},
   "outputs": [
    {
     "data": {
      "text/html": [
       "<div>\n",
       "<style scoped>\n",
       "    .dataframe tbody tr th:only-of-type {\n",
       "        vertical-align: middle;\n",
       "    }\n",
       "\n",
       "    .dataframe tbody tr th {\n",
       "        vertical-align: top;\n",
       "    }\n",
       "\n",
       "    .dataframe thead th {\n",
       "        text-align: right;\n",
       "    }\n",
       "</style>\n",
       "<table border=\"1\" class=\"dataframe\">\n",
       "  <thead>\n",
       "    <tr style=\"text-align: right;\">\n",
       "      <th></th>\n",
       "      <th>count</th>\n",
       "    </tr>\n",
       "    <tr>\n",
       "      <th>overall</th>\n",
       "      <th></th>\n",
       "    </tr>\n",
       "  </thead>\n",
       "  <tbody>\n",
       "    <tr>\n",
       "      <th>1</th>\n",
       "      <td>9022</td>\n",
       "    </tr>\n",
       "    <tr>\n",
       "      <th>0</th>\n",
       "      <td>1239</td>\n",
       "    </tr>\n",
       "  </tbody>\n",
       "</table>\n",
       "</div>"
      ],
      "text/plain": [
       "         count\n",
       "overall       \n",
       "1         9022\n",
       "0         1239"
      ]
     },
     "execution_count": 10,
     "metadata": {},
     "output_type": "execute_result"
    }
   ],
   "source": [
    "val_counts_after = df.overall.value_counts()\n",
    "df_val_counts_after = pd.DataFrame(val_counts_after)\n",
    "df_val_counts_after"
   ]
  },
  {
   "attachments": {},
   "cell_type": "markdown",
   "metadata": {},
   "source": [
    "### Visualization overall vs helpful\n",
    "\n",
    "We can see that the proportion of helpful ratings for both overall ratings of 0 and 1 is quite similar,with a slightly higher proportion for the overall rating of 0. This suggests that the helpfulness rating is not strongly correlated with the overall rating of a review, and that the overall rating may not be the best predictor of a review's helpfulness. \n"
   ]
  },
  {
   "cell_type": "code",
   "execution_count": 11,
   "metadata": {},
   "outputs": [
    {
     "data": {
      "text/html": [
       "<div>\n",
       "<style scoped>\n",
       "    .dataframe tbody tr th:only-of-type {\n",
       "        vertical-align: middle;\n",
       "    }\n",
       "\n",
       "    .dataframe tbody tr th {\n",
       "        vertical-align: top;\n",
       "    }\n",
       "\n",
       "    .dataframe thead th {\n",
       "        text-align: right;\n",
       "    }\n",
       "</style>\n",
       "<table border=\"1\" class=\"dataframe\">\n",
       "  <thead>\n",
       "    <tr style=\"text-align: right;\">\n",
       "      <th></th>\n",
       "      <th>helpful</th>\n",
       "    </tr>\n",
       "    <tr>\n",
       "      <th>overall</th>\n",
       "      <th></th>\n",
       "    </tr>\n",
       "  </thead>\n",
       "  <tbody>\n",
       "    <tr>\n",
       "      <th>0</th>\n",
       "      <td>0.288943</td>\n",
       "    </tr>\n",
       "    <tr>\n",
       "      <th>1</th>\n",
       "      <td>0.261250</td>\n",
       "    </tr>\n",
       "  </tbody>\n",
       "</table>\n",
       "</div>"
      ],
      "text/plain": [
       "          helpful\n",
       "overall          \n",
       "0        0.288943\n",
       "1        0.261250"
      ]
     },
     "execution_count": 11,
     "metadata": {},
     "output_type": "execute_result"
    }
   ],
   "source": [
    "pd.DataFrame(df.groupby('overall')['helpful'].mean())"
   ]
  },
  {
   "attachments": {},
   "cell_type": "markdown",
   "metadata": {},
   "source": [
    "Creating a violin plot to see from where is comming the influences before and after removing the value from `helpfull` with 0 rate."
   ]
  },
  {
   "cell_type": "code",
   "execution_count": 12,
   "metadata": {},
   "outputs": [
    {
     "data": {
      "image/png": "[encoded data removed]",
      "text/plain": [
       "<Figure size 1000x500 with 2 Axes>"
      ]
     },
     "metadata": {},
     "output_type": "display_data"
    }
   ],
   "source": [
    "fig, axs = plt.subplots(ncols=2, figsize=(10, 5))\n",
    "\n",
    "# Plot violinplot of overall vs helpful before cleaning\n",
    "overall_help_before = pd.DataFrame(df, columns=['overall', 'helpful'])\n",
    "sns.violinplot(x=overall_help_before['overall'], y=overall_help_before['helpful'], ax=axs[0])\n",
    "axs[0].set_title('Before Cleaning')\n",
    "\n",
    "# Remove the rows with 0 helpful rating\n",
    "df_cleaned = df[df['helpful']  != 0.00]\n",
    "\n",
    "# Plot violinplot of overall vs helpful after cleaning\n",
    "overall_help_after = pd.DataFrame(df_cleaned, columns=['overall', 'helpful'])\n",
    "sns.violinplot(x=overall_help_after['overall'], y=overall_help_after['helpful'], ax=axs[1])\n",
    "axs[1].set_title('After Cleaning')\n",
    "\n",
    "# Display the subplots\n",
    "plt.show()"
   ]
  },
  {
   "attachments": {},
   "cell_type": "markdown",
   "metadata": {},
   "source": [
    "### Overall vs Date\n",
    "\n",
    "As seen before there are much reviews on 2013-2014 then the other years.  "
   ]
  },
  {
   "cell_type": "code",
   "execution_count": 13,
   "metadata": {},
   "outputs": [
    {
     "data": {
      "image/png": "[encoded data removed]",
      "text/plain": [
       "<Figure size 640x480 with 1 Axes>"
      ]
     },
     "metadata": {},
     "output_type": "display_data"
    }
   ],
   "source": [
    "overall_date = pd.DataFrame(df, columns=['overall', 'reviewTime']) \n",
    "overall_date['year'] = df.reviewTime.dt.year\n",
    "overall_count = overall_date.groupby(['year','overall'])['overall'].count().unstack()\n",
    "sns.lineplot(data=overall_count, markers=True)\n",
    "plt.title('Year and Overall count')\n",
    "plt.xlabel('Year')\n",
    "plt.ylabel('Overall count')\n",
    "plt.show()\n"
   ]
  },
  {
   "attachments": {},
   "cell_type": "markdown",
   "metadata": {},
   "source": [
    "## Feature Engineering\n",
    "\n",
    "The goal of the feature Engineering to extract more meaningful information from the text data that can help the model make accurate predictions. For that, on this section Im going to use some techiques on the `reviews` column from the dataset."
   ]
  },
  {
   "attachments": {},
   "cell_type": "markdown",
   "metadata": {},
   "source": [
    "### Text Preprocessing\n",
    "\n",
    "`stop` is a set of stopwords, which are common words in a language that are often removed from text data before analysis as they do not carry much meaning."
   ]
  },
  {
   "cell_type": "code",
   "execution_count": 14,
   "metadata": {},
   "outputs": [],
   "source": [
    "stop_words = set(stopwords.words('english'))\n",
    "punctuation = set(string.punctuation)\n",
    "stop_words.update(punctuation)"
   ]
  },
  {
   "attachments": {},
   "cell_type": "markdown",
   "metadata": {},
   "source": [
    "Create a function to clean the text from the `reviews` column"
   ]
  },
  {
   "cell_type": "code",
   "execution_count": 15,
   "metadata": {},
   "outputs": [],
   "source": [
    "def review_cleaning(text):\n",
    "    text = str(text).lower()\n",
    "    text = re.sub('\\[.*?\\]', '', text)\n",
    "    text = re.sub('https?://\\S+|www\\.\\S+', '', text)\n",
    "    text = re.sub('<.*?>+', '', text)\n",
    "    text = re.sub('[%s]' % re.escape(string.punctuation), '', text)\n",
    "    text = re.sub('\\n', '', text)\n",
    "    text = re.sub('\\w*\\d\\w*', '', text)\n",
    "    words = text.split()\n",
    "    words = [w for w in words if w not in stop_words]\n",
    "    text = ' '.join(words)\n",
    "    return text\n",
    "\n",
    "df['clean_reviews'] = df['reviews'].apply(review_cleaning)"
   ]
  },
  {
   "attachments": {},
   "cell_type": "markdown",
   "metadata": {},
   "source": [
    "To visualize the impact of cleaning the review column, I randomly selected rows from the dataframe and compared the original reviews with the cleaned reviews. This enables us to observe the changes that occur after processing the text and identify any emerging patterns."
   ]
  },
  {
   "cell_type": "code",
   "execution_count": 16,
   "metadata": {},
   "outputs": [
    {
     "data": {
      "text/html": [
       "<div>\n",
       "<style scoped>\n",
       "    .dataframe tbody tr th:only-of-type {\n",
       "        vertical-align: middle;\n",
       "    }\n",
       "\n",
       "    .dataframe tbody tr th {\n",
       "        vertical-align: top;\n",
       "    }\n",
       "\n",
       "    .dataframe thead th {\n",
       "        text-align: right;\n",
       "    }\n",
       "</style>\n",
       "<table border=\"1\" class=\"dataframe\">\n",
       "  <thead>\n",
       "    <tr style=\"text-align: right;\">\n",
       "      <th></th>\n",
       "      <th>reviews</th>\n",
       "      <th>clean_reviews</th>\n",
       "    </tr>\n",
       "  </thead>\n",
       "  <tbody>\n",
       "    <tr>\n",
       "      <th>55</th>\n",
       "      <td>This is good cable. Excellent 1/4&amp;#34; plugs. ...</td>\n",
       "      <td>good cable excellent plugs lugs solder joints ...</td>\n",
       "    </tr>\n",
       "    <tr>\n",
       "      <th>6531</th>\n",
       "      <td>This pedal does add reverb and it is adjustabl...</td>\n",
       "      <td>pedal add reverb adjustable different effects ...</td>\n",
       "    </tr>\n",
       "    <tr>\n",
       "      <th>8269</th>\n",
       "      <td>The tabs broke off right out of the package (t...</td>\n",
       "      <td>tabs broke right package reviews made aware ma...</td>\n",
       "    </tr>\n",
       "    <tr>\n",
       "      <th>6173</th>\n",
       "      <td>this pedal worked well, but I sent it back bec...</td>\n",
       "      <td>pedal worked well sent back thru marshall itge...</td>\n",
       "    </tr>\n",
       "    <tr>\n",
       "      <th>7633</th>\n",
       "      <td>While not as soft and supple as suede straps, ...</td>\n",
       "      <td>soft supple suede straps pretty sure solid lit...</td>\n",
       "    </tr>\n",
       "  </tbody>\n",
       "</table>\n",
       "</div>"
      ],
      "text/plain": [
       "                                                reviews   \n",
       "55    This is good cable. Excellent 1/4&#34; plugs. ...  \\\n",
       "6531  This pedal does add reverb and it is adjustabl...   \n",
       "8269  The tabs broke off right out of the package (t...   \n",
       "6173  this pedal worked well, but I sent it back bec...   \n",
       "7633  While not as soft and supple as suede straps, ...   \n",
       "\n",
       "                                          clean_reviews  \n",
       "55    good cable excellent plugs lugs solder joints ...  \n",
       "6531  pedal add reverb adjustable different effects ...  \n",
       "8269  tabs broke right package reviews made aware ma...  \n",
       "6173  pedal worked well sent back thru marshall itge...  \n",
       "7633  soft supple suede straps pretty sure solid lit...  "
      ]
     },
     "execution_count": 16,
     "metadata": {},
     "output_type": "execute_result"
    }
   ],
   "source": [
    "df[['reviews','clean_reviews']].sample(n=5)"
   ]
  },
  {
   "attachments": {},
   "cell_type": "markdown",
   "metadata": {},
   "source": [
    "## Text Analysis"
   ]
  },
  {
   "attachments": {},
   "cell_type": "markdown",
   "metadata": {},
   "source": [
    "### Word Frequency"
   ]
  },
  {
   "cell_type": "code",
   "execution_count": 17,
   "metadata": {},
   "outputs": [
    {
     "data": {
      "image/png": "[encoded data removed]",
      "text/plain": [
       "<Figure size 1200x600 with 2 Axes>"
      ]
     },
     "metadata": {},
     "output_type": "display_data"
    }
   ],
   "source": [
    "# Create separate dataframes for positive and negative reviews\n",
    "pos_reviews = df[df['overall'] == 1]\n",
    "neg_reviews = df[df['overall'] == 0]\n",
    "\n",
    "# Combine all the words for positive and negative reviews\n",
    "all_pos_reviews = ' '.join(pos_reviews['clean_reviews'])\n",
    "all_neg_reviews = ' '.join(neg_reviews['clean_reviews'])\n",
    "\n",
    "# Tokenize positive and negative reviews\n",
    "pos_tokens = word_tokenize(all_pos_reviews)\n",
    "neg_tokens = word_tokenize(all_neg_reviews)\n",
    "\n",
    "# Frequency distribution for positive and negative reviews\n",
    "pos_freq_dist = nltk.FreqDist(pos_tokens)\n",
    "neg_freq_dist = nltk.FreqDist(neg_tokens)\n",
    "\n",
    "# Most common word for positive and negative reviews\n",
    "pos_most_common_words = pos_freq_dist.most_common(10)\n",
    "neg_most_common_words = neg_freq_dist.most_common(10)\n",
    "\n",
    "# Plot most common words for positive and negative reviews\n",
    "fig, axs = plt.subplots(ncols=2, figsize=(12,6))\n",
    "\n",
    "sns.barplot(x=[val[1] for val in pos_most_common_words], y=[val[0] for val in pos_most_common_words], ax=axs[0], palette='Greens_d')\n",
    "axs[0].set_xlabel('Frequency')\n",
    "axs[0].set_ylabel('Words')\n",
    "axs[0].set_title('Most Common Words in Positive Reviews')\n",
    "\n",
    "sns.barplot(x=[val[1] for val in neg_most_common_words], y=[val[0] for val in neg_most_common_words], ax=axs[1], palette='Reds_d')\n",
    "axs[1].set_xlabel('Frequency')\n",
    "axs[1].set_ylabel('Words')\n",
    "axs[1].set_title('Most Common Words in Negative Reviews')\n",
    "\n",
    "plt.tight_layout()\n",
    "plt.show()"
   ]
  },
  {
   "cell_type": "code",
   "execution_count": 18,
   "metadata": {},
   "outputs": [
    {
     "data": {
      "image/png": "[encoded data removed]",
      "text/plain": [
       "<Figure size 1200x600 with 2 Axes>"
      ]
     },
     "metadata": {},
     "output_type": "display_data"
    }
   ],
   "source": [
    "\n",
    "tokens_pos = word_tokenize(all_pos_reviews)\n",
    "tokens_neg = word_tokenize(all_neg_reviews)\n",
    "\n",
    "bigrams_pos = list(nltk.bigrams(tokens_pos))\n",
    "bigrams_neg = list(nltk.bigrams(tokens_neg))\n",
    "\n",
    "pos_freq_dist_b = nltk.FreqDist(bigrams_pos)\n",
    "neg_freq_dist_b = nltk.FreqDist(bigrams_neg)\n",
    "\n",
    "pos_b_most_common_words = pos_freq_dist_b.most_common(10)\n",
    "neg_b_most_common_words = neg_freq_dist_b.most_common(10)\n",
    "\n",
    "# Plot most common words for positive and negative reviews\n",
    "fig, axs = plt.subplots(ncols=2, figsize=(12,6))\n",
    "\n",
    "sns.barplot(x=[val[1] for val in pos_b_most_common_words], y=[val[0][0] + ' ' + val[0][1] for val in pos_b_most_common_words], ax=axs[0], orient='h', palette='Greens_d')\n",
    "axs[0].set_xlabel('Frequency')\n",
    "axs[0].set_ylabel('Biagrams')\n",
    "axs[0].set_title('Most Common Biagram in Positive Reviews')\n",
    "\n",
    "sns.barplot(x=[val[1] for val in neg_b_most_common_words], y=[val[0][0] + ' ' + val[0][1] for val in neg_b_most_common_words], ax=axs[1], orient='h', palette='Reds_d')\n",
    "axs[1].set_xlabel('Frequency')\n",
    "axs[1].set_ylabel('Biagrams')\n",
    "axs[1].set_title('Most Common Biagram in Negative Reviews')\n",
    "\n",
    "plt.tight_layout()\n",
    "plt.show()"
   ]
  },
  {
   "attachments": {},
   "cell_type": "markdown",
   "metadata": {},
   "source": [
    "## Modeling "
   ]
  },
  {
   "attachments": {},
   "cell_type": "markdown",
   "metadata": {},
   "source": [
    "### Lemmatization\n",
    "\n",
    "In this section, I will be using lemmatization to transform words in the text to their base or dictionary form. Lemmatization is a technique used to group together the inflected forms of a word so that they can be analyzed as a single item. The goal of lemmatization is to reduce the number of unique words in the text while preserving the meaning of the original text."
   ]
  },
  {
   "cell_type": "code",
   "execution_count": 19,
   "metadata": {},
   "outputs": [],
   "source": [
    "def get_wordnet_pos(word):\n",
    "    \"\"\"Map POS tag to first character used by WordNetLemmatizer\"\"\"\n",
    "    tag = nltk.pos_tag([word])[0][1][0].upper()\n",
    "    tag_dict = {\"J\": wordnet.ADJ,\n",
    "                \"N\": wordnet.NOUN,\n",
    "                \"V\": wordnet.VERB,\n",
    "                \"R\": wordnet.ADV}\n",
    "    return tag_dict.get(tag, wordnet.NOUN)\n",
    "\n",
    "def lemmatize_text(text):\n",
    "    # Tokenize the text into words\n",
    "    words = word_tokenize(text)\n",
    "    lemmatized_words = [lemmatizer.lemmatize(word) for word in words]\n",
    "    lemmatized_text = ' '.join(lemmatized_words)\n",
    "    return lemmatized_text\n",
    "\n",
    "# Initialize lemmatizer\n",
    "lemmatizer = WordNetLemmatizer()\n",
    "\n",
    "df['lemmatized_reviews'] = df['clean_reviews'].apply(lemmatize_text)"
   ]
  },
  {
   "attachments": {},
   "cell_type": "markdown",
   "metadata": {},
   "source": [
    "### Handle Imbalance Data \n",
    "\n",
    "In this project, I will be using SMOTE (Synthetic Minority Over-sampling Technique) to handle the imbalanced dataset. The number of positive reviews in this dataset is much higher than the number of negative reviews. This can lead the model to perform very well for positive reviews and poorly for negative reviews. SMOTE generates synthetic samples of the minority class by creating new reviews based on the existing ones. To achieve this, I will be using SMOTE from the imblearn library. It's important to perform this technique after splitting the data into training and test sets to avoid any data leakage from the test and training sets.\n",
    "But first must to convert the the `x_train` into numerical representation using `TfidfVectorizer`"
   ]
  },
  {
   "cell_type": "code",
   "execution_count": 20,
   "metadata": {},
   "outputs": [
    {
     "ename": "TypeError",
     "evalue": "unhashable type: 'csr_matrix'",
     "output_type": "error",
     "traceback": [
      "\u001b[1;31m---------------------------------------------------------------------------\u001b[0m",
      "\u001b[1;31mTypeError\u001b[0m                                 Traceback (most recent call last)",
      "Cell \u001b[1;32mIn[20], line 11\u001b[0m\n\u001b[0;32m      7\u001b[0m smote \u001b[39m=\u001b[39m SMOTE(random_state\u001b[39m=\u001b[39m\u001b[39m42\u001b[39m)\n\u001b[0;32m      8\u001b[0m x_resampled, y_resampled \u001b[39m=\u001b[39m smote\u001b[39m.\u001b[39mfit_resample(X, y)\n\u001b[0;32m     10\u001b[0m df_smote \u001b[39m=\u001b[39m pd\u001b[39m.\u001b[39mDataFrame({\n\u001b[1;32m---> 11\u001b[0m     \u001b[39m'\u001b[39m\u001b[39mOriginal\u001b[39m\u001b[39m'\u001b[39m: [\u001b[39mf\u001b[39m\u001b[39m'\u001b[39m\u001b[39m{\u001b[39;00mCounter(x_resampled)\u001b[39m}\u001b[39;00m\u001b[39m'\u001b[39m],\n\u001b[0;32m     12\u001b[0m     \u001b[39m'\u001b[39m\u001b[39mResampled\u001b[39m\u001b[39m'\u001b[39m: [\u001b[39mf\u001b[39m\u001b[39m'\u001b[39m\u001b[39m{\u001b[39;00mCounter(y_resampled)\u001b[39m}\u001b[39;00m\u001b[39m'\u001b[39m],\n\u001b[0;32m     13\u001b[0m \n\u001b[0;32m     14\u001b[0m })\n\u001b[0;32m     15\u001b[0m original_dataset \u001b[39m=\u001b[39m pd\u001b[39m.\u001b[39mDataFrame\u001b[39m.\u001b[39mfrom_dict(Counter(y), orient\u001b[39m=\u001b[39m\u001b[39m'\u001b[39m\u001b[39mindex\u001b[39m\u001b[39m'\u001b[39m)\n\u001b[0;32m     16\u001b[0m resampled_dataset \u001b[39m=\u001b[39m pd\u001b[39m.\u001b[39mDataFrame\u001b[39m.\u001b[39mfrom_dict(Counter(y_resampled), orient\u001b[39m=\u001b[39m\u001b[39m'\u001b[39m\u001b[39mindex\u001b[39m\u001b[39m'\u001b[39m)\n",
      "File \u001b[1;32m~\\AppData\\Local\\Programs\\Python\\Python311\\Lib\\collections\\__init__.py:597\u001b[0m, in \u001b[0;36mCounter.__init__\u001b[1;34m(self, iterable, **kwds)\u001b[0m\n\u001b[0;32m    586\u001b[0m \u001b[39m\u001b[39m\u001b[39m'''Create a new, empty Counter object.  And if given, count elements\u001b[39;00m\n\u001b[0;32m    587\u001b[0m \u001b[39mfrom an input iterable.  Or, initialize the count from another mapping\u001b[39;00m\n\u001b[0;32m    588\u001b[0m \u001b[39mof elements to their counts.\u001b[39;00m\n\u001b[1;32m   (...)\u001b[0m\n\u001b[0;32m    594\u001b[0m \n\u001b[0;32m    595\u001b[0m \u001b[39m'''\u001b[39;00m\n\u001b[0;32m    596\u001b[0m \u001b[39msuper\u001b[39m()\u001b[39m.\u001b[39m\u001b[39m__init__\u001b[39m()\n\u001b[1;32m--> 597\u001b[0m \u001b[39mself\u001b[39;49m\u001b[39m.\u001b[39;49mupdate(iterable, \u001b[39m*\u001b[39;49m\u001b[39m*\u001b[39;49mkwds)\n",
      "File \u001b[1;32m~\\AppData\\Local\\Programs\\Python\\Python311\\Lib\\collections\\__init__.py:688\u001b[0m, in \u001b[0;36mCounter.update\u001b[1;34m(self, iterable, **kwds)\u001b[0m\n\u001b[0;32m    686\u001b[0m             \u001b[39msuper\u001b[39m()\u001b[39m.\u001b[39mupdate(iterable)\n\u001b[0;32m    687\u001b[0m     \u001b[39melse\u001b[39;00m:\n\u001b[1;32m--> 688\u001b[0m         _count_elements(\u001b[39mself\u001b[39;49m, iterable)\n\u001b[0;32m    689\u001b[0m \u001b[39mif\u001b[39;00m kwds:\n\u001b[0;32m    690\u001b[0m     \u001b[39mself\u001b[39m\u001b[39m.\u001b[39mupdate(kwds)\n",
      "\u001b[1;31mTypeError\u001b[0m: unhashable type: 'csr_matrix'"
     ]
    }
   ],
   "source": [
    "# Vectorize\n",
    "tfidf_vectorizer = TfidfVectorizer()\n",
    "X = tfidf_vectorizer.fit_transform(df['lemmatized_reviews'])\n",
    "y = df['overall']\n",
    "\n",
    "# SMOTE\n",
    "smote = SMOTE(random_state=42)\n",
    "x_resampled, y_resampled = smote.fit_resample(X, y)\n",
    "\n",
    "df_smote = pd.DataFrame({\n",
    "    'Original': [f'{Counter(x_resampled)}'],\n",
    "    'Resampled': [f'{Counter(y_resampled)}'],\n",
    "\n",
    "})\n",
    "original_dataset = pd.DataFrame.from_dict(Counter(y), orient='index')\n",
    "resampled_dataset = pd.DataFrame.from_dict(Counter(y_resampled), orient='index')\n",
    "df_smote = pd.concat([original_dataset, resampled_dataset], axis=1)\n",
    "df_smote.columns = ['Before SMOTE', 'After SMOTE']\n",
    "df_smote"
   ]
  },
  {
   "attachments": {},
   "cell_type": "markdown",
   "metadata": {},
   "source": [
    "### Split data\n",
    "\n",
    "In this section, I will split the pre-processed data into training and test sets. The training set will be used to train the model, while the test set will be used to evaluate the performance of the trained model. I will use a ratio of 80% for the training set and 20% for the test set."
   ]
  },
  {
   "cell_type": "code",
   "execution_count": null,
   "metadata": {},
   "outputs": [],
   "source": [
    "x_train,x_test,y_train,y_test = train_test_split(x_resampled, y_resampled,test_size = 0.2 , random_state = 0)"
   ]
  },
  {
   "attachments": {},
   "cell_type": "markdown",
   "metadata": {},
   "source": [
    "### Train the model\n",
    "\n",
    "On this section, I will train different models using a pipeline. The pipeline will include a TfidfVectorizer to vectorize the data and an instance of a model. For this project, I will be using LogisticRegression, MultinomialNB, SVC, and RandomForestClassifier models.\n"
   ]
  },
  {
   "cell_type": "code",
   "execution_count": null,
   "metadata": {},
   "outputs": [],
   "source": [
    "models = {\n",
    "       'LogisticRegression': LogisticRegression(random_state=0),\n",
    "       'MultinomialNB':MultinomialNB(),\n",
    "       'SVM':SVC(kernel='linear', random_state=0),\n",
    "       'RandomForest':RandomForestClassifier(random_state=0),\n",
    "}\n",
    "    \n",
    "results = []\n",
    "best_accuracy = 0\n",
    "best_model = None\n",
    "\n",
    "for model_name, model_pipeline in models.items():\n",
    "    model_pipeline.fit(x_train, y_train)\n",
    "    accuracy = model_pipeline.score(x_test, y_test)\n",
    "    \n",
    "    results.append({'Model': model_name, 'Accuracy': accuracy})\n",
    "\n",
    "    # Save the best model\n",
    "    if accuracy > best_accuracy:\n",
    "        best_accuracy = accuracy\n",
    "        best_model = model_pipeline\n",
    "\n",
    "# Save the best model using pickle\n",
    "with open(f'best_model.pkl', 'wb') as f:\n",
    "    pickle.dump(best_model, f)\n",
    "\n",
    "df_acc = pd.DataFrame(results)\n",
    "df_acc = df_acc.sort_values(by='Accuracy', ascending=False).reset_index(drop=True)\n",
    "df_acc"
   ]
  },
  {
   "attachments": {},
   "cell_type": "markdown",
   "metadata": {},
   "source": [
    "### Classification metrics\n",
    "\n",
    "In this section, the best model will be evaluated using a confusion matrix to identify the true positive, true negative, false positive, and false negative. Finally, a report will be created to analyze some of the metrics such as precision, recall, and f1-score.\n"
   ]
  },
  {
   "cell_type": "code",
   "execution_count": null,
   "metadata": {},
   "outputs": [],
   "source": [
    "# Load the best model\n",
    "with open('best_model.pkl', 'rb') as f:\n",
    "    best_model = pickle.load(f)\n",
    "\n",
    "# Get predictions for test set using the best model\n",
    "y_pred = best_model.predict(x_test)\n",
    "cm = confusion_matrix(y_test, y_pred)\n",
    "\n",
    "# Plot confusion matrix\n",
    "sns.heatmap(cm, annot=True, fmt='d', cmap='Blues')\n",
    "plt.xlabel('Predicted')\n",
    "plt.ylabel('True')\n",
    "plt.show()"
   ]
  },
  {
   "attachments": {},
   "cell_type": "markdown",
   "metadata": {},
   "source": [
    "Conclusion based on the confusion matrix:\n",
    "\n",
    "* The model correctly classified 1820 instances as negative reviews (class 0) and 1633 instances as positive reviews (class 1) \n",
    "* The model incorrectly classified 15 instances as negative reviews that were actually positive reviews and 141 instances as positive reviews that were actually negative reviews"
   ]
  },
  {
   "cell_type": "code",
   "execution_count": null,
   "metadata": {},
   "outputs": [],
   "source": [
    "report = classification_report(y_test, y_pred, target_names=['0', '1'], output_dict=True)\n",
    "df_report = pd.DataFrame(report).transpose()\n",
    "df_report"
   ]
  },
  {
   "attachments": {},
   "cell_type": "markdown",
   "metadata": {},
   "source": [
    "Conclusios of based on the metrics: \n",
    "* Based on the confusion matrics the model just missed 141 out of 1633 for positve reviews and for the \n",
    "* The overall accuracy of the model is 0.95, indicating that is performing well in classifying the reviews as positive and negative\n",
    "* The precision for both cases are very good \n",
    "* The recall for the positive reviews is 0.99, indicating that the model is very good identoifying positive reviews as positive\n",
    "* The recall for the negative reviews is less precise then the positive\n",
    "* The F1-score for positive reviews is very high, indicating that the model is very good at identifying positive reviews\n",
    "* The F1-score for negative reviews is also very high, indicating that the model is very good at identifying negative reviews\n",
    "* The weighted average F1-score of the model is 0.957, which is quite high and indicates that the model is performing well overall"
   ]
  },
  {
   "attachments": {},
   "cell_type": "markdown",
   "metadata": {},
   "source": [
    "## Final conclusions:\n",
    "\n",
    "Based on this project this is my conclusions:\n",
    "* The dataset was highly imbalanced with a majority of positive reviews compared to negative reviews\n",
    "* Balancing the dataset using SMOTE improved the model's performance significantly by increasing its ability to identify negative reviews\n",
    "* The accuracy score of the best model was high at 95.6%\n",
    "* The precision and recall scores were high for both positive and negative reviews. The model was better at identifying positive reviews, but it still performed well for negative reviews\n",
    "* The macro-average F1-score was 0.96, indicating good performance on both classes, while the weighted average F1-score was slightly lower at 0.95\n",
    "* Limited variety of the datset, with most of the reviews being for guitars\n",
    "* Future work could include expanding the datset with more varaity of reviews or products and use other NLP techiques to improve performce."
   ]
  }
 ],
 "metadata": {
  "kernelspec": {
   "display_name": "env",
   "language": "python",
   "name": "python3"
  },
  "language_info": {
   "codemirror_mode": {
    "name": "ipython",
    "version": 3
   },
   "file_extension": ".py",
   "mimetype": "text/x-python",
   "name": "python",
   "nbconvert_exporter": "python",
   "pygments_lexer": "ipython3",
   "version": "3.11.2"
  },
  "orig_nbformat": 4
 },
 "nbformat": 4,
 "nbformat_minor": 2
}
